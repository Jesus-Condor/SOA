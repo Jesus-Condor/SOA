{
 "cells": [
  {
   "cell_type": "markdown",
   "metadata": {},
   "source": [
    "## Curso: Sistemas Operativos Avanzados"
   ]
  },
  {
   "cell_type": "markdown",
   "metadata": {},
   "source": [
    "### Nombres y apellidos: Jesus Angel Condor Torres"
   ]
  },
  {
   "cell_type": "markdown",
   "metadata": {},
   "source": [
    "### Codigo: 20141378D"
   ]
  },
  {
   "cell_type": "markdown",
   "metadata": {},
   "source": [
    "### Planificador"
   ]
  },
  {
   "cell_type": "code",
   "execution_count": 1,
   "metadata": {},
   "outputs": [],
   "source": [
    "### Solucion1"
   ]
  },
  {
   "cell_type": "markdown",
   "metadata": {},
   "source": [
    "![](TAT-SJF-200.png)"
   ]
  },
  {
   "cell_type": "code",
   "execution_count": null,
   "metadata": {},
   "outputs": [],
   "source": [
    "### En la imagen anterior observamos el tiempo de tres trabajos de longitud 200 cada uno bajo el metodo de trabajo \n",
    "### SJF, en cual se obtiene el tiempo en que cada trabajo es ejecutado y finalmente te da el promedio de tiempo de los \n",
    "### tres trabajos, la cual resulto 200"
   ]
  },
  {
   "cell_type": "markdown",
   "metadata": {},
   "source": [
    "![](TAT-FIFO-200.png)"
   ]
  },
  {
   "cell_type": "code",
   "execution_count": null,
   "metadata": {},
   "outputs": [],
   "source": [
    "### En la imagen anterior observamos el tiempo de tres trabajos de longitud 200 cada uno bajo el metodo de trabajo \n",
    "### FIFO, en cual se obtiene el tiempo en que cada trabajo es ejecutado y finalmente te da el promedio de tiempo de los \n",
    "### tres trabajos, la cual resulto 200 igual que la anterior imagen."
   ]
  },
  {
   "cell_type": "code",
   "execution_count": null,
   "metadata": {},
   "outputs": [],
   "source": [
    "### Solucion2"
   ]
  },
  {
   "cell_type": "markdown",
   "metadata": {},
   "source": [
    "![](SJF-2.png)"
   ]
  },
  {
   "cell_type": "code",
   "execution_count": null,
   "metadata": {},
   "outputs": [],
   "source": [
    "### En la imagen anterior vemos el tiempo de respuesta de 3 trabajos de diferentes longitudes (100, 200, 300),\n",
    "### donde los tiempos de respuesta fueron 0, 100, 300 dando un promedio de 133.33, mientras su tiempo de ejecucion \n",
    "### fueron de 100, 300 y 600 dando un promedio de ejecucion de 333.33, este metodo trabajado pertenece a SJF."
   ]
  },
  {
   "cell_type": "markdown",
   "metadata": {},
   "source": [
    "![](FIFO-2.png)"
   ]
  },
  {
   "cell_type": "code",
   "execution_count": null,
   "metadata": {},
   "outputs": [],
   "source": [
    "### En la imagen anterior vemos el tiempo de respuesta de 3 trabajos de diferentes longitudes (100, 200, 300),\n",
    "### donde los tiempos de respuesta fueron 0, 100, 300 dando un promedio de 133.33, mientras su tiempo de ejecucion \n",
    "### fueron de 100, 300 y 600 dando un promedio de ejecucion de 333.33, este metodo usado pertenece a FIFO,  \n",
    "### comparando resultados con el metodo anterior genera los mismos tiempos."
   ]
  },
  {
   "cell_type": "code",
   "execution_count": null,
   "metadata": {},
   "outputs": [],
   "source": [
    "### Solucion3"
   ]
  },
  {
   "cell_type": "markdown",
   "metadata": {},
   "source": [
    "![Metodo Round Robin](RR-2.png)"
   ]
  },
  {
   "cell_type": "code",
   "execution_count": null,
   "metadata": {},
   "outputs": [],
   "source": [
    "### En la imagen anterior observamos el tiempo de 3 trabajos de diferentes longitudes bajo el metodo de  Round\n",
    "### Robin, las cuales da como resultados en tiempo de respuesta 0, 1 y 2 ya que le da un trabajo equitativo, dando\n",
    "### como resultado el tiempo promedio de respuesta 1, y como tiempo de ejecucion da a los trabajos los tiempos de \n",
    "### 298, 499 y 600 dando como un promedio de tiempo de ejecucion de 465.67."
   ]
  },
  {
   "cell_type": "code",
   "execution_count": null,
   "metadata": {},
   "outputs": [],
   "source": [
    "### Solucion 4"
   ]
  },
  {
   "cell_type": "code",
   "execution_count": null,
   "metadata": {},
   "outputs": [],
   "source": [
    "### Para que el TAT sea el mismo tanto en SJF como en FIFO, las cargas de trabajos deben ser iguales tanto en SJF\n",
    "### como en FIFO."
   ]
  },
  {
   "cell_type": "code",
   "execution_count": null,
   "metadata": {},
   "outputs": [],
   "source": [
    "### Solucion 5"
   ]
  },
  {
   "cell_type": "code",
   "execution_count": null,
   "metadata": {},
   "outputs": [],
   "source": [
    "### Haciendo simulaciones se encontro que los TAT de SJF y RR son muy cercanos o casi iguales \n",
    "### cuando se da las siguientes condiciones:\n",
    "### 1. Las longitudes de las cargas de trabajos deben ser iguales.\n",
    "### 2. El tiempo de espera de Round Robin debe ser lo minimo posible o cercano a 1.\n",
    "### 3. Las longitudes de carga de trabajo no deben ser tan largas.\n",
    "### Ahora para que los tiempos de respuestas sean iguales se deben cumplir lo siguiente:\n",
    "### 1. Las distribuciones de cargas deben ser uniformes.\n",
    "### 2. El quantum debe ser igual a la longitud de carga."
   ]
  },
  {
   "cell_type": "code",
   "execution_count": null,
   "metadata": {},
   "outputs": [],
   "source": [
    "### Solucion 6"
   ]
  },
  {
   "cell_type": "code",
   "execution_count": null,
   "metadata": {},
   "outputs": [],
   "source": [
    "### Al simular el aumento de las duraciones de los trabajos bajo el metodo SJF, encontramos que el tiempo de \n",
    "### respuesta aumenta a medida que se ejecutan los trabajos, ademas su tiempo promedio tambien aumenta \n",
    "### considerablemente asi como su tiempo de espera, algunos resultados fueron los siguientes:"
   ]
  },
  {
   "cell_type": "markdown",
   "metadata": {},
   "source": [
    "![](p5-1.png)"
   ]
  },
  {
   "cell_type": "markdown",
   "metadata": {},
   "source": [
    "![](p5-2.png)"
   ]
  },
  {
   "cell_type": "markdown",
   "metadata": {},
   "source": [
    "![](p5-3.png)"
   ]
  },
  {
   "cell_type": "markdown",
   "metadata": {},
   "source": [
    "![](p5-4.png)"
   ]
  },
  {
   "cell_type": "code",
   "execution_count": null,
   "metadata": {},
   "outputs": [],
   "source": [
    "### Solucion 7"
   ]
  },
  {
   "cell_type": "code",
   "execution_count": null,
   "metadata": {},
   "outputs": [],
   "source": [
    "### Por la forma de la pregunta entiendo que lo que se varia se refiere al \"quantum\", si es asi esntonces debido \n",
    "### a que el quantum aumenta, tambien aumenta su tiempo de respuesta, sin embargo como el metodo es Round Robin\n",
    "### entonces los trabajos son ejecutados en intervalos iguales segun el indice del quantum, esto seguira asi \n",
    "### hasta que finalice las sus trabajos y el tiempo promedio puede variar segun el tiempo de ejecucion que se dio\n",
    "### para cada trabajo. El peor tiempo de respuesta se daria cuando los trabajos sean de distinta longitud y los \n",
    "### primeros trabajos sean los de mayor longitud."
   ]
  },
  {
   "cell_type": "markdown",
   "metadata": {},
   "source": [
    "### MLFQ"
   ]
  },
  {
   "cell_type": "code",
   "execution_count": null,
   "metadata": {},
   "outputs": [],
   "source": [
    "### Solucion1"
   ]
  },
  {
   "cell_type": "markdown",
   "metadata": {},
   "source": [
    "![](p2-1.png)"
   ]
  },
  {
   "cell_type": "code",
   "execution_count": null,
   "metadata": {},
   "outputs": [],
   "source": [
    "### En la imagen anterior se uso el comando \"python mlfq.py -n 2 -j2\" donde se utiliza dos colas y dos trabajos en\n",
    "### el cual cuando es ejecutado da como resultado un tiempo de respuesta promedio 3.50 y un turn around promedio \n",
    "### de 143.5, cabe destacar que estos dos trabajos tenian interrupcion de E/S de 7 y 3 respectivamente."
   ]
  },
  {
   "cell_type": "markdown",
   "metadata": {},
   "source": [
    "![](p2-1-2.png)"
   ]
  },
  {
   "cell_type": "code",
   "execution_count": null,
   "metadata": {},
   "outputs": [],
   "source": [
    "### En la imagen anterior se uso el comando \"python mlfq.py --jlist 0,50,0:10,40,0 -c\" donde usamos dos trabajos sin \n",
    "### interferencia de E/S, donde el comando --jlist le da cuanto tiempo tendra en ejecucion a cada trabajo sin \n",
    "### ninguna interrupcion de E/S."
   ]
  },
  {
   "cell_type": "code",
   "execution_count": null,
   "metadata": {},
   "outputs": [],
   "source": [
    "### Solucion2"
   ]
  },
  {
   "cell_type": "markdown",
   "metadata": {},
   "source": [
    "![](p2-2.png)"
   ]
  },
  {
   "cell_type": "code",
   "execution_count": null,
   "metadata": {},
   "outputs": [],
   "source": [
    "### En la imagen anterior observamos el comando que tiene como objetivo crear 4 trabajos con distintas prioridades\n",
    "### donde los dos primeros trabajos tienen una mayor prioridad con 10, luego sigue el tercer trabajo con prioridad\n",
    "### 20 y finalmente el de menor prioridad con indice 30. Esto pertenece al promer ejemplo de la diapositiva."
   ]
  },
  {
   "cell_type": "markdown",
   "metadata": {},
   "source": [
    "![](p2-2-2.png)"
   ]
  },
  {
   "cell_type": "code",
   "execution_count": null,
   "metadata": {},
   "outputs": [],
   "source": [
    "### En la imagen anterior tenemos el resultado del comando anterior donde cada trabajo obtuvo un tiempo de \n",
    "### respuesta de 0, 7, 10 y 14, ademas su tiempo promedio de respuesta fue de 7.75."
   ]
  },
  {
   "cell_type": "markdown",
   "metadata": {},
   "source": [
    "![](p2-2-3.png)"
   ]
  },
  {
   "cell_type": "code",
   "execution_count": null,
   "metadata": {},
   "outputs": [],
   "source": [
    "### En el comando que se muestra a continuacion vemos que el comando puesto va en referencia al ejemplo de tres \n",
    "### trabajos realizados en tres colas, donde el trabajo de los 2 primeros tiene un intervalo de 10 ms las cuales \n",
    "### tienen mas alta prioridad y luego el ultimo trabajo de mas baja prioridad tiene un intervalo 180 ms."
   ]
  },
  {
   "cell_type": "markdown",
   "metadata": {},
   "source": [
    "![](p2-2-4.png)"
   ]
  },
  {
   "cell_type": "code",
   "execution_count": null,
   "metadata": {},
   "outputs": [],
   "source": [
    "### En la imagen anterior vemos el resultado del ejemplo que se planteo en el anterior imagen a esta donde muestra\n",
    "### los tiempos de inicio en 0, 10, y 20y con un TAT promedio de 66.67 y no tiene ninguna interrupcion de E/S."
   ]
  },
  {
   "cell_type": "markdown",
   "metadata": {},
   "source": [
    "![](p2-2-5.png)"
   ]
  },
  {
   "cell_type": "code",
   "execution_count": null,
   "metadata": {},
   "outputs": [],
   "source": [
    "### En la imagen anterior vemos el comando que perteneceria al ejemplo 3 donde se tienen 3 colas para dos trabajos\n",
    "### donde el intervalo del trabajo de mas prioridad es del Q = 20, ademas el trabajo de mas largo tiene una \n",
    "### interrupcion en 100 despues de su ejecucion. Este ejemplo pertenece al ejemplo 3 del tema de mlfq."
   ]
  },
  {
   "cell_type": "markdown",
   "metadata": {},
   "source": [
    "![](p2-2-6.png)"
   ]
  },
  {
   "cell_type": "code",
   "execution_count": null,
   "metadata": {},
   "outputs": [],
   "source": [
    "### En la imagen anterior observamos el resultado del ejemplo 3 de los dos trabajos donde el primer trabajo tuvo\n",
    "### un tiempo de respuesta 0, mientras el segundo trabajo obtuvo un tiempo de respuesta 7, dando como promedio un \n",
    "### un tiempo de respuesta de 3.50 mientras que el TAT promedio es de 1272.50"
   ]
  },
  {
   "cell_type": "markdown",
   "metadata": {},
   "source": [
    "![](p2-2-7.png)"
   ]
  },
  {
   "cell_type": "code",
   "execution_count": null,
   "metadata": {},
   "outputs": [],
   "source": [
    "### En la imagen anterior vemos el comando o al menos la idea de como hacer el ejemplo 3, la cual el trabajo de \n",
    "### mayor prioridad tiene un intervalo de 1 ms, haciendo despues que la prioridad del otro trabajo sea de baja \n",
    "### prioridad, para ver el resultado de este comando observamos la siguiente imagen."
   ]
  },
  {
   "cell_type": "markdown",
   "metadata": {},
   "source": [
    "![](p2-2-8.png)"
   ]
  },
  {
   "cell_type": "code",
   "execution_count": null,
   "metadata": {},
   "outputs": [],
   "source": [
    "### Observando el resultado del ultimo ejemplo del ppt con respecto a mlfq se observa los tiempos de respuesta y \n",
    "### el TAT de la ejecucion las cuales son para el primer trabajo 1193, y para el segundo es 1372, sus tiempos de \n",
    "### respuesta son para el primer trabajo 0 y para el segundo 1, por el cual su tiempo promedio de respuesta es 0.5 \n",
    "### mientras su Turnaround promedio es de 1282.5."
   ]
  },
  {
   "cell_type": "code",
   "execution_count": null,
   "metadata": {},
   "outputs": [],
   "source": [
    "### Solucion3"
   ]
  },
  {
   "cell_type": "code",
   "execution_count": null,
   "metadata": {},
   "outputs": [],
   "source": [
    "### Para obtener un planificador Round Robin debemos tener 3 aspectos a tomar en cuenta:\n",
    "### 1. La prioridad de los trabajos.\n",
    "### 2. La carga de trabajos.\n",
    "### 3. El quantum de cada trabajo.\n",
    "### tomando como principio que el algoritmo Round Robin lo que hace es hacer un trabajo equitativo de los trabajos\n",
    "### una opcion seria tener las cargas de trabajos iguales o casi iguales con un quantum tambien muy cercanos o\n",
    "### iguales manteniendo a todos los trabajos como alta prioridad, en el caso que los trabajos sean de diferente \n",
    "### carga, seria un balanceo variando el quantum para que la prioridad no varie tanto ya que la idea es que todos \n",
    "### los trabajos tengan la misma prioridad."
   ]
  },
  {
   "cell_type": "code",
   "execution_count": 1,
   "metadata": {},
   "outputs": [],
   "source": [
    "### Solucion 4"
   ]
  },
  {
   "cell_type": "markdown",
   "metadata": {},
   "source": [
    "![](p2-4.png)"
   ]
  },
  {
   "cell_type": "code",
   "execution_count": null,
   "metadata": {},
   "outputs": [],
   "source": [
    "### En la imagen anterior vemos el uso del comando -S con el objetivo de que el trabajo mantenga su prioridad a \n",
    "### pesar que de una interrupcion de E/S, este tiene 2 trabajos de cargas de diferente prioridad (se da por default)"
   ]
  },
  {
   "cell_type": "markdown",
   "metadata": {},
   "source": [
    "![](p2-4-2.png)"
   ]
  },
  {
   "cell_type": "code",
   "execution_count": null,
   "metadata": {},
   "outputs": [],
   "source": [
    "### En la imagen anterior vemos los resultados de la ejecucion de los dos trabajos bajo la condicion que mantendra\n",
    "### su prioridad si su trabajo abandona la CPU antes de finalice su segmento de tiempo. Tiene como tiempo de \n",
    "### respuesta medio 3.50 y un turnaround medio de 148.50."
   ]
  },
  {
   "cell_type": "code",
   "execution_count": null,
   "metadata": {},
   "outputs": [],
   "source": [
    "### Solucion 5"
   ]
  },
  {
   "cell_type": "markdown",
   "metadata": {},
   "source": [
    "![](p2-5.png)"
   ]
  },
  {
   "cell_type": "code",
   "execution_count": null,
   "metadata": {},
   "outputs": [],
   "source": [
    "### En la imagen anterior vemos un tipo de ejemplo de como aumentar el nivel de prioridad de los trabajos a traves\n",
    "### del comando -B y ademas le damos a los trabajos de prioridad mas alta un quamtum de 10 ms "
   ]
  },
  {
   "cell_type": "markdown",
   "metadata": {},
   "source": [
    "![](p2-5-2.png)"
   ]
  },
  {
   "cell_type": "code",
   "execution_count": null,
   "metadata": {},
   "outputs": [],
   "source": [
    "### Vemos el resultado de los trabajos con el comando -B haciendo que mantengan su prioridad o vayan aumentar\n",
    "### dependiendo de su carga o tiempo de ejecucion, en nuestro caso, los trabajos dieron un tiempo de respuesta de \n",
    "### 0, 2 y 3 mientras su tiempo promedio de respuesta fue de 1.67, ademas que su turnaround promedio fue de 177.00"
   ]
  },
  {
   "cell_type": "code",
   "execution_count": null,
   "metadata": {},
   "outputs": [],
   "source": [
    "### Solucion 6"
   ]
  },
  {
   "cell_type": "markdown",
   "metadata": {},
   "source": [
    "![](p2-6.png)"
   ]
  },
  {
   "cell_type": "code",
   "execution_count": null,
   "metadata": {},
   "outputs": [],
   "source": [
    "### En la imagen anterior vemos un ejemplo de como usamos el comando -I que ayuda a que se muevan si finaliza E/S \n",
    "### al principio de la cola, en este ejemplo hay 4 trabajos con diferentes ioFreq y diferentes prioridades."
   ]
  },
  {
   "cell_type": "markdown",
   "metadata": {},
   "source": [
    "![](p2-6-2.png)"
   ]
  },
  {
   "cell_type": "code",
   "execution_count": null,
   "metadata": {},
   "outputs": [],
   "source": [
    "### En la imagen anterior vemos el resultado de los trabajos de los 4 jobs con las siguientes caracteristicas:\n",
    "### 1. Tiempo de respuesta 1 Job: 20\n",
    "### 2. Tiempo de respuesta 2 Job: 7\n",
    "### 3. Tiempo de respuesta 3 Job: 3\n",
    "### 4. Tiempo de respuesta 4 Job: 0\n",
    "### Tiempo promedio de respuesta: 7.50\n",
    "### tiempo promedio turnaround: 223.00"
   ]
  },
  {
   "cell_type": "markdown",
   "metadata": {},
   "source": [
    "### Cuota Proporcional"
   ]
  },
  {
   "cell_type": "code",
   "execution_count": null,
   "metadata": {},
   "outputs": [],
   "source": [
    "### Solucion1"
   ]
  },
  {
   "cell_type": "markdown",
   "metadata": {},
   "source": [
    "![](p3-1.png)"
   ]
  },
  {
   "cell_type": "markdown",
   "metadata": {},
   "source": [
    "![](p3-1-2.png)"
   ]
  },
  {
   "cell_type": "code",
   "execution_count": null,
   "metadata": {},
   "outputs": [],
   "source": [
    "### En las 2 imagenes anteriores vemos el comando \"python loteria.py -j 3 -s 1 -c\" donde vemos como una semilla\n",
    "### aleatoria y 3 trabajos se ejecutan hasta que se obtiene un ganador en cada trabajo, se les puede identificar\n",
    "### a traves de un *"
   ]
  },
  {
   "cell_type": "markdown",
   "metadata": {},
   "source": [
    "![](p3-1-3.png)"
   ]
  },
  {
   "cell_type": "markdown",
   "metadata": {},
   "source": [
    "![](p3-1-4.png)"
   ]
  },
  {
   "cell_type": "code",
   "execution_count": null,
   "metadata": {},
   "outputs": [],
   "source": [
    "### En las imagenes anteriores hacemos uso del comando \"python loteria.py -j 3 -s 2\" donde ahora se generan 2 semillas \n",
    "### aleatorias y estas juntos con los trabajos generan los nuevos \"ganadores\" en la ejecucion."
   ]
  },
  {
   "cell_type": "markdown",
   "metadata": {},
   "source": [
    "![](p3-1-5.png)"
   ]
  },
  {
   "cell_type": "markdown",
   "metadata": {},
   "source": [
    "![](p3-1-6.png)"
   ]
  },
  {
   "cell_type": "code",
   "execution_count": null,
   "metadata": {},
   "outputs": [],
   "source": [
    "### En las imagenes anteriores observamos  el trabjo de 3 jobs con una semilla aleatoria de valor 3, luego muestra\n",
    "### los resultados obtenidos."
   ]
  },
  {
   "cell_type": "code",
   "execution_count": null,
   "metadata": {},
   "outputs": [],
   "source": [
    "### Solucion2"
   ]
  },
  {
   "cell_type": "markdown",
   "metadata": {},
   "source": [
    "![](p3-2.png)"
   ]
  },
  {
   "cell_type": "markdown",
   "metadata": {},
   "source": [
    "![](p3-2-2.png)"
   ]
  },
  {
   "cell_type": "code",
   "execution_count": null,
   "metadata": {},
   "outputs": [],
   "source": [
    "### Solucion 3"
   ]
  },
  {
   "cell_type": "markdown",
   "metadata": {},
   "source": [
    "![](p3-3.png)"
   ]
  },
  {
   "cell_type": "markdown",
   "metadata": {},
   "source": [
    "![](p3-3-2.png)"
   ]
  },
  {
   "cell_type": "code",
   "execution_count": null,
   "metadata": {},
   "outputs": [],
   "source": [
    "### Solucion 4"
   ]
  },
  {
   "cell_type": "markdown",
   "metadata": {},
   "source": [
    "![](p3-4.png)"
   ]
  },
  {
   "cell_type": "markdown",
   "metadata": {},
   "source": [
    "![](p3-4-2.png)"
   ]
  },
  {
   "cell_type": "markdown",
   "metadata": {},
   "source": [
    "### Planificación en un multiprocesador"
   ]
  },
  {
   "cell_type": "code",
   "execution_count": null,
   "metadata": {},
   "outputs": [],
   "source": [
    "### Solucion1"
   ]
  },
  {
   "cell_type": "markdown",
   "metadata": {},
   "source": [
    "![](p4.png)"
   ]
  },
  {
   "cell_type": "code",
   "execution_count": null,
   "metadata": {},
   "outputs": [],
   "source": [
    "### Solucion2"
   ]
  },
  {
   "cell_type": "markdown",
   "metadata": {},
   "source": [
    "![](p4-2.png)"
   ]
  },
  {
   "cell_type": "code",
   "execution_count": null,
   "metadata": {},
   "outputs": [],
   "source": [
    "### SOlucion3"
   ]
  },
  {
   "cell_type": "markdown",
   "metadata": {},
   "source": [
    "![](p4-3.png)"
   ]
  },
  {
   "cell_type": "markdown",
   "metadata": {},
   "source": [
    "![](p4-3-2.png)"
   ]
  },
  {
   "cell_type": "code",
   "execution_count": null,
   "metadata": {},
   "outputs": [],
   "source": [
    "### Disculpe que en los ultimas imagenes no pude haber hecho un analisis, me falto tiempo para comprender bien el tema"
   ]
  }
 ],
 "metadata": {
  "kernelspec": {
   "display_name": "Python 2",
   "language": "python",
   "name": "python2"
  },
  "language_info": {
   "codemirror_mode": {
    "name": "ipython",
    "version": 2
   },
   "file_extension": ".py",
   "mimetype": "text/x-python",
   "name": "python",
   "nbconvert_exporter": "python",
   "pygments_lexer": "ipython2",
   "version": "2.7.12"
  }
 },
 "nbformat": 4,
 "nbformat_minor": 4
}
